{
 "cells": [
  {
   "cell_type": "markdown",
   "id": "2caabdda",
   "metadata": {},
   "source": [
    "# llm 기본틀 만들기"
   ]
  },
  {
   "cell_type": "code",
   "execution_count": 5,
   "id": "ca202b12",
   "metadata": {},
   "outputs": [],
   "source": [
    "from dotenv import load_dotenv\n",
    "import os\n",
    "from langchain_openai import ChatOpenAI\n",
    "from langchain_core.prompts import ChatPromptTemplate\n",
    "from langchain_core.output_parsers import StrOutputParser\n",
    "\n",
    "load_dotenv()\n",
    "api_key = os.getenv('OPENAI_API_KEY')"
   ]
  },
  {
   "cell_type": "markdown",
   "id": "8cbf2967",
   "metadata": {},
   "source": [
    "## 모델 객체 생성"
   ]
  },
  {
   "cell_type": "code",
   "execution_count": 4,
   "id": "7ff6000b",
   "metadata": {},
   "outputs": [],
   "source": [
    "llm = ChatOpenAI(model=\"gpt-3.5-turbo-0125\", api_key=api_key)"
   ]
  },
  {
   "cell_type": "markdown",
   "id": "8dcdfba9",
   "metadata": {},
   "source": [
    "## 시스템 프롬프트 작성\n",
    " - https://github.com/f/awesome-chatgpt-prompts 검색 : financial"
   ]
  },
  {
   "cell_type": "code",
   "execution_count": 6,
   "id": "5e471364",
   "metadata": {},
   "outputs": [],
   "source": [
    "system_prompt = \"\"\"\n",
    "Want assistance provided by qualified individuals enabled with experience on understanding charts using technical analysis tools while interpreting macroeconomic environment prevailing across world consequently assisting customers acquire long term advantages requires clear verdicts therefore seeking same through informed predictions written down precisely! First statement contains following content- \"Can you tell us what future stock market looks like based upon current conditions ?\n",
    "\"\"\"\n",
    "user_prompt = \"{company}에 주식을 투자해도 될까요? 마크다운 형식의 투자보고서를 한글로 작성해 주세요.\""
   ]
  },
  {
   "cell_type": "markdown",
   "id": "5c80c30a",
   "metadata": {},
   "source": [
    "## 프롬프트 객체 생성"
   ]
  },
  {
   "cell_type": "code",
   "execution_count": 7,
   "id": "53b3fd8b",
   "metadata": {},
   "outputs": [
    {
     "data": {
      "text/plain": [
       "ChatPromptTemplate(input_variables=['company'], input_types={}, partial_variables={}, messages=[SystemMessagePromptTemplate(prompt=PromptTemplate(input_variables=[], input_types={}, partial_variables={}, template='\\nWant assistance provided by qualified individuals enabled with experience on understanding charts using technical analysis tools while interpreting macroeconomic environment prevailing across world consequently assisting customers acquire long term advantages requires clear verdicts therefore seeking same through informed predictions written down precisely! First statement contains following content- \"Can you tell us what future stock market looks like based upon current conditions ?\\n'), additional_kwargs={}), HumanMessagePromptTemplate(prompt=PromptTemplate(input_variables=['company'], input_types={}, partial_variables={}, template='{company}에 주식을 투자해도 될까요? 마크다운 형식의 투자보고서를 한글로 작성해 주세요.'), additional_kwargs={})])"
      ]
     },
     "execution_count": 7,
     "metadata": {},
     "output_type": "execute_result"
    }
   ],
   "source": [
    "prompt = ChatPromptTemplate.from_messages([\n",
    "    (\"system\", system_prompt),\n",
    "    (\"user\", user_prompt)\n",
    "])\n",
    "prompt"
   ]
  },
  {
   "cell_type": "markdown",
   "id": "0516280e",
   "metadata": {},
   "source": [
    "## Output 파서 객체 생성"
   ]
  },
  {
   "cell_type": "code",
   "execution_count": 8,
   "id": "d9be935c",
   "metadata": {},
   "outputs": [
    {
     "data": {
      "text/plain": [
       "StrOutputParser()"
      ]
     },
     "execution_count": 8,
     "metadata": {},
     "output_type": "execute_result"
    }
   ],
   "source": [
    "output_parser = StrOutputParser()\n",
    "output_parser"
   ]
  },
  {
   "cell_type": "markdown",
   "id": "c9064afc",
   "metadata": {},
   "source": [
    "## LCEL로 LLM 요청 및 응답받기"
   ]
  },
  {
   "cell_type": "code",
   "execution_count": null,
   "id": "3dca6fa9",
   "metadata": {},
   "outputs": [],
   "source": [
    "chain = prompt | llm | output_parser\n",
    "\n",
    "company = \"MicroSoft\"\n",
    "response = chain.invoke({\"company\":company})"
   ]
  },
  {
   "cell_type": "code",
   "execution_count": 10,
   "id": "da40707b",
   "metadata": {},
   "outputs": [
    {
     "name": "stdout",
     "output_type": "stream",
     "text": [
      "---\n",
      "\n",
      "# MicroSoft 주식 투자 보고서\n",
      "\n",
      "## 요약\n",
      "\n",
      "현재의 조건을 고려할 때 MicroSoft 주식에 대한 장기 투자 여부를 결정해야 합니다. 이 보고서는 기술적 분석 도구를 사용하여 차트를 해석하고, 전 세계적으로 피어나는 거시경제 환경을 고려하여 고객이 장기적인 이점을 확보할 수 있도록 도와드립니다.\n",
      "\n",
      "## 기술적 분석\n",
      "\n",
      "MicroSoft 주식은 현재 상승 추세를 보이고 있으며, 이동평균선을 통해 강한 지지선을 형성하고 있습니다. MACD 지표 역시 양상이 긍정적이며, RSI 지표는 매수 영역에 머물고 있습니다. 이러한 기술적 신호들은 주식이 더 나아질 가능성이 크다는 것을 시사합니다.\n",
      "\n",
      "\n",
      "## 거시경제 환경\n",
      "\n",
      "세계적으로는 코로나19 백신 보급 및 경제 회복에 대한 희망이 상승하고 있습니다. 미국과 중국의 경기 호조, 금리 인하에 따른 투자 세탁 등이 MicroSoft와 같은 기술 기업들의 주식에 긍정적인 영향을 미치고 있습니다.\n",
      "\n",
      "## 전망\n",
      "\n",
      "MicroSoft 주식은 현재 기술적 분석과 거시경제 환경을 고려할 때, 장기 투자에 적합한 종목으로 판단됩니다. 주식 시장에서는 변동성이 상존하므로 투자 시 참고하시기 바랍니다.\n",
      "\n",
      "긴급한 투자 결정 시 수익보다 손실을 우려해 집중적으로 투자 결정에 대한 전문가 상담을 받아보시는 것을 권장드립니다.\n",
      "\n",
      "---\n"
     ]
    }
   ],
   "source": [
    "print(response)"
   ]
  }
 ],
 "metadata": {
  "kernelspec": {
   "display_name": "llm_env",
   "language": "python",
   "name": "python3"
  },
  "language_info": {
   "codemirror_mode": {
    "name": "ipython",
    "version": 3
   },
   "file_extension": ".py",
   "mimetype": "text/x-python",
   "name": "python",
   "nbconvert_exporter": "python",
   "pygments_lexer": "ipython3",
   "version": "3.12.7"
  }
 },
 "nbformat": 4,
 "nbformat_minor": 5
}
