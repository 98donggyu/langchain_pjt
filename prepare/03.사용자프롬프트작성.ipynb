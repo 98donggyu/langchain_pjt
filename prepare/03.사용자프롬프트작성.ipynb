{
 "cells": [
  {
   "cell_type": "markdown",
   "id": "47980575",
   "metadata": {},
   "source": [
    "# 사용자 프롬프트 작성"
   ]
  },
  {
   "cell_type": "markdown",
   "id": "ac101b44",
   "metadata": {},
   "source": [
    "- Openai key 로딩, ChatOpenAI() 객체 생성"
   ]
  },
  {
   "cell_type": "code",
   "execution_count": 1,
   "id": "6c0f819e",
   "metadata": {},
   "outputs": [],
   "source": [
    "from dotenv import load_dotenv\n",
    "import os\n",
    "from langchain_openai import ChatOpenAI\n",
    "\n",
    "load_dotenv()\n",
    "\n",
    "api_key = os.getenv('OPENAI_API_KEY')\n",
    "# print(api_key)"
   ]
  },
  {
   "cell_type": "markdown",
   "id": "0fa2134b",
   "metadata": {},
   "source": [
    "# 모델 객체 생성"
   ]
  },
  {
   "cell_type": "code",
   "execution_count": 2,
   "id": "d7bbf6e6",
   "metadata": {},
   "outputs": [],
   "source": [
    "# gpt model 객체 생성\n",
    "# llm = ChatOpenAI(model=\"gpt-4o\", api_key=api_key, temperature=0)\n",
    "llm = ChatOpenAI(model=\"gpt-3.5-turbo-0125\", api_key=api_key, temperature=0)"
   ]
  },
  {
   "cell_type": "code",
   "execution_count": 3,
   "id": "81577762",
   "metadata": {},
   "outputs": [],
   "source": [
    "from langchain_core.prompts import ChatPromptTemplate\n",
    "from langchain_core.output_parsers import StrOutputParser"
   ]
  },
  {
   "cell_type": "markdown",
   "id": "de7544cf",
   "metadata": {},
   "source": [
    "- https://github.com/f/awesome-chatgpt-prompts\n",
    "- 검색 : financial\n",
    "Want assistance provided by qualified individuals enabled with experience on understanding charts using technical analysis tools while interpreting macroeconomic environment prevailing across world consequently assisting customers acquire long term advantages requires clear verdicts therefore seeking same through informed predictions written down precisely! First statement contains following content- \"Can you tell us what future stock market looks like based upon current conditions ?\".\n"
   ]
  },
  {
   "cell_type": "code",
   "execution_count": 4,
   "id": "3cd1dd55",
   "metadata": {},
   "outputs": [],
   "source": [
    "# 프롬프트 템플릿\n",
    "system_prompt = \"\"\"\n",
    "Want assistance provided by qualified individuals enabled with experience on understanding charts using technical analysis tools while interpreting macroeconomic environment prevailing across world consequently assisting customers acquire long term advantages requires clear verdicts therefore seeking same through informed predictions written down precisely! First statement contains following content- “Can you tell us what future stock market looks like based upon current conditions ?\".\n",
    "\"\"\"\n",
    "user_prompt = \"\"\"\n",
    "    {company}에 주식을 투자해도 될까요? 마크다운 형식의 투자보고서를 한글로 작성해 주세요.\n",
    "    야래의 기본 정보, 재무제표를 참고해 마크다운 형식의 투자 보고서를 한글로 작성해 주세요.\n",
    "\n",
    "    기본정보:\n",
    "    {basic_info}\n",
    "\n",
    "    재무제표:\n",
    "    {finacial_statement}\n",
    "\"\"\""
   ]
  },
  {
   "cell_type": "code",
   "execution_count": 5,
   "id": "3d5f1828",
   "metadata": {},
   "outputs": [
    {
     "data": {
      "text/plain": [
       "ChatPromptTemplate(input_variables=['basic_info', 'company', 'finacial_statement'], input_types={}, partial_variables={}, messages=[SystemMessagePromptTemplate(prompt=PromptTemplate(input_variables=[], input_types={}, partial_variables={}, template='\\nWant assistance provided by qualified individuals enabled with experience on understanding charts using technical analysis tools while interpreting macroeconomic environment prevailing across world consequently assisting customers acquire long term advantages requires clear verdicts therefore seeking same through informed predictions written down precisely! First statement contains following content- “Can you tell us what future stock market looks like based upon current conditions ?\".\\n'), additional_kwargs={}), HumanMessagePromptTemplate(prompt=PromptTemplate(input_variables=['basic_info', 'company', 'finacial_statement'], input_types={}, partial_variables={}, template='\\n    {company}에 주식을 투자해도 될까요? 마크다운 형식의 투자보고서를 한글로 작성해 주세요.\\n    야래의 기본 정보, 재무제표를 참고해 마크다운 형식의 투자 보고서를 한글로 작성해 주세요.\\n\\n    기본정보:\\n    {basic_info}\\n\\n    재무제표:\\n    {finacial_statement}\\n'), additional_kwargs={})])"
      ]
     },
     "execution_count": 5,
     "metadata": {},
     "output_type": "execute_result"
    }
   ],
   "source": [
    "# 프롬프트 객체 생성\n",
    "prompt = ChatPromptTemplate.from_messages([\n",
    "    (\"system\", system_prompt),\n",
    "    (\"user\", user_prompt)\n",
    "])\n",
    "prompt"
   ]
  },
  {
   "cell_type": "code",
   "execution_count": 6,
   "id": "eedf7621",
   "metadata": {},
   "outputs": [
    {
     "data": {
      "text/plain": [
       "StrOutputParser()"
      ]
     },
     "execution_count": 6,
     "metadata": {},
     "output_type": "execute_result"
    }
   ],
   "source": [
    "output_parser = StrOutputParser()\n",
    "output_parser"
   ]
  },
  {
   "cell_type": "code",
   "execution_count": 13,
   "id": "374305db",
   "metadata": {},
   "outputs": [],
   "source": [
    "# from stock_info import Stock 인식이 안될 경우 아래 코드 실행\n",
    "import sys\n",
    "import os\n",
    "\n",
    "sys.path.append(os.path.abspath(\"..\"))"
   ]
  },
  {
   "cell_type": "code",
   "execution_count": null,
   "id": "a7e93380",
   "metadata": {},
   "outputs": [
    {
     "name": "stdout",
     "output_type": "stream",
     "text": [
      "|                  |   2024-09-30 00:00:00 |   2023-09-30 00:00:00 |   2022-09-30 00:00:00 |   2021-09-30 00:00:00 |\n",
      "|:-----------------|----------------------:|----------------------:|----------------------:|----------------------:|\n",
      "| Total Revenue    |           3.91035e+11 |           3.83285e+11 |           3.94328e+11 |           3.65817e+11 |\n",
      "| Gross Profit     |           1.80683e+11 |           1.69148e+11 |           1.70782e+11 |           1.52836e+11 |\n",
      "| Operating Income |           1.23216e+11 |           1.14301e+11 |           1.19437e+11 |           1.08949e+11 |\n",
      "| Net Income       |           9.3736e+10  |           9.6995e+10  |           9.9803e+10  |           9.468e+10   |\n"
     ]
    }
   ],
   "source": [
    "from stock_info import Stock\n",
    "# chain 구성 : LCEL(LangChain Expression Language)\n",
    "chain = prompt | llm | output_parser\n",
    "\n",
    "# 회사 이름\n",
    "# company = \"MicroSoft\"\n",
    "# symbol = \"MSFT\"  # stock의 symbol 정보\n",
    "\n",
    "company = \"Apple Inc\"\n",
    "symbol = \"AAPL\"\n",
    "# 기본정보 :  basic_info\n",
    "# 재무제표: finacial_statement\n",
    "\n",
    "# stock 정보를 객체로 모듈화해서 불러오기\n",
    "\n",
    "stock = Stock(symbol)\n",
    "req_value = {\n",
    "    \"company\":company,\n",
    "    # 기본정보 :  basic_info\n",
    "    \"basic_info\": stock.get_basic_info(),\n",
    "    # 재무제표: finacial_statement\n",
    "    \"finacial_statement\" : stock.get_financial_statement()\n",
    "}\n",
    "\n",
    "response = chain.invoke(req_value)"
   ]
  },
  {
   "cell_type": "code",
   "execution_count": 15,
   "id": "b149504c",
   "metadata": {},
   "outputs": [
    {
     "name": "stdout",
     "output_type": "stream",
     "text": [
      "# Apple Inc. 투자보고서\n",
      "\n",
      "## 기본정보:\n",
      "- 기업명: Apple Inc.\n",
      "- 시가총액: 3,027,038,633,984\n",
      "- 산업: 소비자 전자제품\n",
      "- 섹터: 기술\n",
      "- 정규직 종업원 수: 164,000명\n",
      "- 현재 주가: $202.67\n",
      "- 기업가치: 3,076,731,961,344\n",
      "\n",
      "## 재무제표:\n",
      "\n",
      "### 손익계산서\n",
      "| 항목              | 2024년  | 2023년  | 2022년  | 2021년  |\n",
      "|:------------------|---------:|---------:|---------:|---------:|\n",
      "| 총 수익           | 3.91035e+11 | 3.83285e+11 | 3.94328e+11 | 3.65817e+11 |\n",
      "| 총 이익           | 1.80683e+11 | 1.69148e+11 | 1.70782e+11 | 1.52836e+11 |\n",
      "| 영업 이익         | 1.23216e+11 | 1.14301e+11 | 1.19437e+11 | 1.08949e+11 |\n",
      "| 순 이익           | 9.3736e+10  | 9.6995e+10  | 9.9803e+10  | 9.468e+10   |\n",
      "\n",
      "### 대차대조표\n",
      "| 항목                                   | 2024년  | 2023년  | 2022년  | 2021년  |\n",
      "|:--------------------------------------|---------:|---------:|---------:|---------:|\n",
      "| 총 자산                               | 3.6498e+11 | 3.52583e+11 | 3.52755e+11 | 3.51002e+11 |\n",
      "| 총 부채 및 소수주의 이익 차감후 잔액 | 3.0803e+11 | 2.90437e+11 | 3.02083e+11 | 2.87912e+11 |\n",
      "| 주주자본                              | 5.695e+10  | 6.2146e+10  | 5.0672e+10  | 6.309e+10   |\n",
      "\n",
      "### 현금 흐름표\n",
      "| 항목                | 2024년  | 2023년  | 2022년  | 2021년  |\n",
      "|:-------------------|---------:|---------:|---------:|---------:|\n",
      "| 영업 현금 흐름     | 1.18254e+11 | 1.10543e+11 | 1.22151e+11 | 1.04038e+11 |\n",
      "| 투자 현금 흐름     | 2.935e+09   | 3.705e+09   | -2.2354e+10  | -1.4545e+10  |\n",
      "| 재무 현금 흐름     | -1.21983e+11 | -1.08488e+11 | -1.10749e+11 | -9.3353e+10  |\n",
      "\n",
      "주어진 정보를 기반으로 Apple Inc.의 재무 상태는 안정적으로 보입니다. 수익과 이익이 꾸준히 증가하고 있으며, 자산 대비 부채가 적절한 수준을 유지하고 있습니다. 또한 영업 및 투자 활동에서의 현금 흐름도 양호한 편입니다. 따라서 현재 상황에서 Apple Inc.에 투자하는 것은 안정적인 투자로 평가될 수 있습니다. 단기적인 변동성은 있을 수 있지만 장기적으로는 성장 가능성이 높은 기업으로 평가됩니다.\n"
     ]
    }
   ],
   "source": [
    "print(response)"
   ]
  }
 ],
 "metadata": {
  "kernelspec": {
   "display_name": "llm_env",
   "language": "python",
   "name": "python3"
  },
  "language_info": {
   "codemirror_mode": {
    "name": "ipython",
    "version": 3
   },
   "file_extension": ".py",
   "mimetype": "text/x-python",
   "name": "python",
   "nbconvert_exporter": "python",
   "pygments_lexer": "ipython3",
   "version": "3.12.7"
  }
 },
 "nbformat": 4,
 "nbformat_minor": 5
}
